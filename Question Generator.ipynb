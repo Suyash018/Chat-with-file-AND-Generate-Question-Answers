{
 "cells": [
  {
   "cell_type": "code",
   "execution_count": 3,
   "metadata": {},
   "outputs": [],
   "source": [
    "from langchain_community.document_loaders import PyPDFLoader\n",
    "from langchain_community.vectorstores import FAISS\n",
    "from langchain_openai import OpenAIEmbeddings\n",
    "from langchain_text_splitters import CharacterTextSplitter"
   ]
  },
  {
   "cell_type": "markdown",
   "metadata": {},
   "source": [
    "Creating Embeddings and storing it in a faiss Database"
   ]
  },
  {
   "cell_type": "code",
   "execution_count": 4,
   "metadata": {},
   "outputs": [],
   "source": [
    "# Load Documents using PyPDF LOader\n",
    "loader = PyPDFLoader(\"Big Mac Index.pdf\") # change document Here\n",
    "pages = loader.load()"
   ]
  },
  {
   "cell_type": "code",
   "execution_count": 5,
   "metadata": {},
   "outputs": [],
   "source": [
    "# split documents\n",
    "text_splitter = CharacterTextSplitter(chunk_size=1000, chunk_overlap=0)\n",
    "docs = text_splitter.split_documents(pages)"
   ]
  },
  {
   "cell_type": "code",
   "execution_count": 6,
   "metadata": {},
   "outputs": [],
   "source": [
    "embeddings=OpenAIEmbeddings() # open ai emebeddings\n",
    "db = FAISS.from_documents(docs,embeddings ) # creating Faiss Vector store\n"
   ]
  },
  {
   "cell_type": "code",
   "execution_count": 7,
   "metadata": {},
   "outputs": [],
   "source": [
    "db.save_local(\"faiss_index\") # saving Faiss index in local\n"
   ]
  },
  {
   "cell_type": "markdown",
   "metadata": {},
   "source": [
    "Loading data"
   ]
  },
  {
   "cell_type": "code",
   "execution_count": 8,
   "metadata": {},
   "outputs": [],
   "source": [
    "embeddings=OpenAIEmbeddings() # open ai emebeddings\n",
    "\n",
    "db = FAISS.load_local(\"faiss_index\", embeddings,allow_dangerous_deserialization=True)# loading saved Faiss index in local\n"
   ]
  },
  {
   "cell_type": "code",
   "execution_count": 9,
   "metadata": {},
   "outputs": [],
   "source": [
    "from langchain_openai import ChatOpenAI\n",
    "llm = ChatOpenAI(model=\"gpt-3.5-turbo\", temperature=0)\n",
    "\n",
    "# retriver added \n",
    "retriever = db.as_retriever()\n"
   ]
  },
  {
   "cell_type": "markdown",
   "metadata": {},
   "source": [
    "# RAG chain"
   ]
  },
  {
   "cell_type": "code",
   "execution_count": 10,
   "metadata": {},
   "outputs": [],
   "source": [
    "from langchain_core.output_parsers import StrOutputParser\n",
    "from langchain_core.runnables import RunnablePassthrough\n",
    "\n",
    "from langchain_core.prompts import PromptTemplate\n",
    "\n",
    "\n",
    "# Prompt from https://github.com/langchain-ai/langchain/tree/master/libs/langchain/langchain/chains/qa_generation\n",
    "template = \"\"\"You are a smart assistant designed to help high school teachers come up with reading comprehension questions.\n",
    "Given a piece of context, you must come up with a question and answer pair that can be used to test a student's reading comprehension abilities.\n",
    "When coming up with this question/answer pair\n",
    "\n",
    "Please come up with a question/answer pair, in JSON format, for the following context:\n",
    "----------------\n",
    "{context}\n",
    "\n",
    "The User will specify how many and what type of questions it wants by {question}\n",
    "\n",
    "The type of questions can be of  three categories: \n",
    "1.True or False \n",
    "2.Multiple Choice Questions (MCQs)\n",
    "3.one-word answers.\n",
    "\n",
    "Specify the type of each question as\n",
    "1.True or False = True/False\n",
    "2.Multiple Choice Questions (MCQs) = MCQs\n",
    "3.one-word answers. = one-word answer\n",
    "\n",
    "\"\"\"\n",
    "\n",
    "# simple RAG\n",
    "custom_rag_prompt = PromptTemplate.from_template(template)\n",
    "\n",
    "\n",
    "rag_chain = (\n",
    "    {\"context\": retriever , \"question\": RunnablePassthrough()}\n",
    "    | custom_rag_prompt\n",
    "    | llm\n",
    "    | StrOutputParser()\n",
    ")"
   ]
  },
  {
   "cell_type": "markdown",
   "metadata": {},
   "source": [
    "# invoking the chain with number of questions"
   ]
  },
  {
   "cell_type": "code",
   "execution_count": 11,
   "metadata": {},
   "outputs": [],
   "source": [
    "# number of question of each type to generate\n",
    "mcq=2\n",
    "OneWord =2\n",
    "T_F=2\n",
    "\n",
    "Total = mcq+OneWord+T_F\n",
    "z = f\"Total {Total} questions, {T_F} of which are True or False questions, {mcq} are Multiple Choice Questions (MCQs), and {OneWord} are one-word answer questions.\"\n",
    "\n",
    "ans=rag_chain.invoke(z)"
   ]
  },
  {
   "cell_type": "code",
   "execution_count": 12,
   "metadata": {},
   "outputs": [
    {
     "data": {
      "text/plain": [
       "'{\\n    \"questions\": [\\n        {\\n            \"question\": \"True or False: The Big Mac Index is limited by geographical coverage due to the presence of the McDonald\\'s franchise.\",\\n            \"answer\": \"True\",\\n            \"type\": \"True/False\"\\n        },\\n        {\\n            \"question\": \"True or False: The price of a Big Mac in a country is solely determined by relative currency values.\",\\n            \"answer\": \"False\",\\n            \"type\": \"True/False\"\\n        },\\n        {\\n            \"question\": \"Which country had the most expensive Big Mac in July 2023?\",\\n            \"options\": [\"Switzerland\", \"Norway\", \"Uruguay\", \"Argentina\", \"EU\", \"Sweden\"],\\n            \"answer\": \"Switzerland\",\\n            \"type\": \"MCQs\"\\n        },\\n        {\\n            \"question\": \"In which city did an average local worker have to work the longest to earn enough to buy a Big Mac in 2015?\",\\n            \"options\": [\"Nairobi\", \"Manila\", \"Mexico City\", \"Jakarta\", \"Cairo\", \"Kyiv\"],\\n            \"answer\": \"Nairobi\",\\n            \"type\": \"MCQs\"\\n        },\\n        {\\n            \"question\": \"What is the implied exchange rate according to the Big Mac index for July 2023?\",\\n            \"answer\": \"1.20 SFr/USD\",\\n            \"type\": \"one-word answer\"\\n        },\\n        {\\n            \"question\": \"What is the name of the index created solely for Africa that uses KFC\\'s Original 15 pc. bucket instead of a Big Mac?\",\\n            \"answer\": \"KFC Index\",\\n            \"type\": \"one-word answer\"\\n        }\\n    ]\\n}'"
      ]
     },
     "execution_count": 12,
     "metadata": {},
     "output_type": "execute_result"
    }
   ],
   "source": [
    "ans"
   ]
  },
  {
   "cell_type": "markdown",
   "metadata": {},
   "source": [
    "# Making the File Questions.txt"
   ]
  },
  {
   "cell_type": "code",
   "execution_count": 13,
   "metadata": {},
   "outputs": [],
   "source": [
    "import json\n",
    "\n",
    "# Dump Json file to TXT\n",
    "\n",
    "data = json.loads(ans)"
   ]
  },
  {
   "cell_type": "code",
   "execution_count": 14,
   "metadata": {},
   "outputs": [
    {
     "data": {
      "text/plain": [
       "{'questions': [{'question': \"True or False: The Big Mac Index is limited by geographical coverage due to the presence of the McDonald's franchise.\",\n",
       "   'answer': 'True',\n",
       "   'type': 'True/False'},\n",
       "  {'question': 'True or False: The price of a Big Mac in a country is solely determined by relative currency values.',\n",
       "   'answer': 'False',\n",
       "   'type': 'True/False'},\n",
       "  {'question': 'Which country had the most expensive Big Mac in July 2023?',\n",
       "   'options': ['Switzerland',\n",
       "    'Norway',\n",
       "    'Uruguay',\n",
       "    'Argentina',\n",
       "    'EU',\n",
       "    'Sweden'],\n",
       "   'answer': 'Switzerland',\n",
       "   'type': 'MCQs'},\n",
       "  {'question': 'In which city did an average local worker have to work the longest to earn enough to buy a Big Mac in 2015?',\n",
       "   'options': ['Nairobi', 'Manila', 'Mexico City', 'Jakarta', 'Cairo', 'Kyiv'],\n",
       "   'answer': 'Nairobi',\n",
       "   'type': 'MCQs'},\n",
       "  {'question': 'What is the implied exchange rate according to the Big Mac index for July 2023?',\n",
       "   'answer': '1.20 SFr/USD',\n",
       "   'type': 'one-word answer'},\n",
       "  {'question': \"What is the name of the index created solely for Africa that uses KFC's Original 15 pc. bucket instead of a Big Mac?\",\n",
       "   'answer': 'KFC Index',\n",
       "   'type': 'one-word answer'}]}"
      ]
     },
     "execution_count": 14,
     "metadata": {},
     "output_type": "execute_result"
    }
   ],
   "source": [
    "data"
   ]
  },
  {
   "cell_type": "code",
   "execution_count": 15,
   "metadata": {},
   "outputs": [],
   "source": [
    "\n",
    "\n",
    "# Open a text file in write mode\n",
    "\n",
    "with open(\"questions.txt\", \"w\") as file:\n",
    "    for question_data in data[\"questions\"]:\n",
    "        file.write(\"Question: {}\\n\".format(question_data[\"question\"]))\n",
    "\n",
    "        if question_data[\"type\"] == 'MCQs' :\n",
    "            file.write(\"Options:\\n\")\n",
    "            for option in question_data[\"options\"]:\n",
    "                file.write(\"- {}\\n\".format(option))\n",
    "        \n",
    "        file.write(\"\\nAnswer: {}\\n\\n\".format(question_data[\"answer\"]))\n"
   ]
  }
 ],
 "metadata": {
  "kernelspec": {
   "display_name": "Python 3",
   "language": "python",
   "name": "python3"
  },
  "language_info": {
   "codemirror_mode": {
    "name": "ipython",
    "version": 3
   },
   "file_extension": ".py",
   "mimetype": "text/x-python",
   "name": "python",
   "nbconvert_exporter": "python",
   "pygments_lexer": "ipython3",
   "version": "3.11.8"
  }
 },
 "nbformat": 4,
 "nbformat_minor": 2
}
